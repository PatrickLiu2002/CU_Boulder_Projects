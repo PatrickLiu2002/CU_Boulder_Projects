{
 "cells": [
  {
   "cell_type": "markdown",
   "metadata": {},
   "source": [
    "## CSCI 3830 Exam 1 Part 2 \n",
    "### Total 50 points\n",
    "\n",
    "```\n",
    "For this part the exam, because we have already finished the theoretical portion of the exam, and your next homework assignment \n",
    "is coding based, I want this part of the exam for me to learn more about what you have learned so far up to this part of the semester.\n",
    "Therefore Please answer the following quesitons to the best of your ability. It will help me learn more about you and how I can best \n",
    "faciliate your learning style. \n",
    "\n",
    "```\n"
   ]
  },
  {
   "cell_type": "markdown",
   "metadata": {},
   "source": [
    "#1) We have done root estimations using the Bisection Method, The Newton Method, Secant Method and Muller's Method. Discuss these methods conceptually\n",
    " in detail and also discuss their differences, advantages and limitations. Please be as descriptive as possibile (20 points)"
   ]
  },
  {
   "cell_type": "markdown",
   "metadata": {},
   "source": [
    "**Answer:**\n",
    "\n",
    "\n",
    "The Bisection Method uses two initial guesses $a$ and $b$ to calculate a root of a function. After evaluating the function $f(x)$ at a midpoint $p$ between the two initial guesses, it updates the value of either $a$ or $b$ depending on the sign of $f(p)$. While the Bisection Method does not require a derivative for the function, its rate of convergence is relatively slow as it converges linearly. It also requires the signs of $a$ and $b$ to be opposites of each other, so a given root must be a point where $f(x)$ crosses the x-axis instead of just \"touching\" it. \n",
    "\n",
    "Newton's Method uses the derivative of a function at a given estimate p to compute the next estimate. It only requires a single estimate $p_n$, and subtracts $\\frac{f(p_n)}{f'(p_n)}$ from it to compute the next estimate $p_{n+1}$. Newton's Method converges quadratically if certain conditions are met, allowing it to converge more quickly than the Bisection Method. However, Newton's Method requires the derivative to be calculatable, and can fail if the initial guess is not accurate enough. \n",
    "\n",
    "The Secant Method uses two guesses in order to compute the next estimate. By computing the slope between the previous guess and the one before it, the Secant Method can produce an approximation of Newton's Method without needing to calculate a derivative. It requires two initial guesses that are close enough to each other and to the root, and converges slower than Newton's Method does. \n",
    "\n",
    "Muller's Method allows complex roots to be found with a real initial guess, unlike the three previous methods. It uses three initial guesses to construct a quadratic polynomial that passes through the three guesses' positions on $f(x)$, and then solves the polynomial to create a new guess. Muller's option works for almost any initial approximation, and failures are very rare. "
   ]
  },
  {
   "cell_type": "markdown",
   "metadata": {},
   "source": [
    "#2) Next, we moved onto to the inteporlation techniques, and in this we interpolated polynomials using various techniques, such as the the legrange interpolation.\n",
    "Discuss this method in detail, it's advanges, and limitatoins. Finally conclude this discussion with identifying why numerical differentiation is important and what \n",
    "methods in industry it can be applied to. Try to be as descriptive and detailed as possible (20 points)\n"
   ]
  },
  {
   "cell_type": "markdown",
   "metadata": {},
   "source": [
    "**Answer:**\n",
    "\n",
    "The Lagrange Interpolation uses a set of $n + 1$ points to construct a polynomial of an order of at most $n$. It does this by summing multiple functions $L(k)$ where $L(k) = f(k)$ and $L(a) = 0$ for $a \\neq k$. Each function $L(k)$ is constructed through the total product of $(x - x_n)/(x_k - x_n)$ for all $n \\neq k$, and this product is multiplied by $f(x_k)$. After all $L(k)$ are summed together, the polynomial is constructed. Lagrange Interpolation is efficient and easy to calculate, but may be inaccurate depending on the points chosen. Calculating the derivative of a Lagrange interpolating polynomial can also take more resources as the initial polynomial must be broken down into the form $ax^n + bx^{n - 1} + ...$ before a derivative can be computed. \n",
    "\n",
    "Numerical differentiation is important as it allows for derivatives to be calculated when manual interpertation is not possible or difficult. Finding the length of a curved object, as well as calculating speed, can be accomplished using numerical differation: For example, while there is no real function for the position of a car, the speed of a car at any given moment can be calculated using numerical differentiation.  "
   ]
  },
  {
   "cell_type": "markdown",
   "metadata": {},
   "source": [
    "#3) Last but not least, we are soon approaching discussion of your final project. For this question, I want you certain topics you would like to do in your final \n",
    "project as well as certain we have done thus far that are of the most interest to you. Again, try to be descriptive and creative as possible (10 points)"
   ]
  },
  {
   "cell_type": "markdown",
   "metadata": {},
   "source": [
    "**Answer:**\n",
    "\n",
    "One topic I am interested in doing in my final project is differentiation, as its applications are intriguing and not much of my education has touched upon it: Most differentiation I have done so far is done explicitly and not numerically. Another topic I am interested in is interpolation, as the behavior of interpolating polynomials is also fairly interesting to me."
   ]
  }
 ],
 "metadata": {
  "kernelspec": {
   "display_name": "Python 3 (ipykernel)",
   "language": "python",
   "name": "python3"
  },
  "language_info": {
   "codemirror_mode": {
    "name": "ipython",
    "version": 3
   },
   "file_extension": ".py",
   "mimetype": "text/x-python",
   "name": "python",
   "nbconvert_exporter": "python",
   "pygments_lexer": "ipython3",
   "version": "3.9.13"
  }
 },
 "nbformat": 4,
 "nbformat_minor": 2
}
