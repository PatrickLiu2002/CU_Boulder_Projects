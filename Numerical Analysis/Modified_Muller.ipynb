{
 "cells": [
  {
   "cell_type": "code",
   "execution_count": 1,
   "id": "2dfaf3b4",
   "metadata": {},
   "outputs": [
    {
     "data": {
      "text/plain": [
       "\"\\nModified Muller's method to account for all roots. Guesses near other roots to get estimated values. \\n\\n\""
      ]
     },
     "execution_count": 1,
     "metadata": {},
     "output_type": "execute_result"
    }
   ],
   "source": [
    "'''\n",
    "Modified Muller's method to account for all roots. Guesses near other roots to get estimated values. \n",
    "\n",
    "'''"
   ]
  },
  {
   "cell_type": "code",
   "execution_count": 2,
   "id": "fbf140ec",
   "metadata": {},
   "outputs": [
    {
     "name": "stdout",
     "output_type": "stream",
     "text": [
      "n\txn\t\tf(xn)\n",
      "1\t4.5\t\t20.625\n",
      "2\t5.5\t\t82.875\n",
      "3\t5\t\t48\n",
      "4\t3.97649\t\t-0.81633\n",
      "5\t4.00105\t\t0.03678\n",
      "6\t4.0\t\t2e-05\n",
      "3iterations\n",
      "n\txn\t\tf(xn)\n",
      "1\t-0.7\t\t-3.2430000000000003\n",
      "2\t-1.2\t\t1.8719999999999999\n",
      "3\t-1.1\t\t0.9690000000000012\n",
      "4\t-0.9994\t\t-0.00604\n",
      "5\t-1.0\t\t-1e-05\n",
      "2iterations\n",
      "n\txn\t\tf(xn)\n",
      "1\t-3.5\t\t-9.375\n",
      "2\t-2.8\t\t2.448000000000004\n",
      "3\t-3.1\t\t-1.4909999999999997\n",
      "4\t-3.00071\t\t-0.00995\n",
      "5\t-3.0\t\t-1e-05\n",
      "2iterations\n",
      "The estimated roots are4.000000705270523, -0.9999987941516273, -3.0000010133963473\n"
     ]
    }
   ],
   "source": [
    "import cmath\n",
    "def f(x):\n",
    "    return x**3 - 13*x - 12\n",
    "\n",
    "#Adjust code to accept different sets of guesses.\n",
    "def Muller(g1, g2, g3):\n",
    "\n",
    "    xnm2 = g1\n",
    "    xnm1 = g2\n",
    "    xn = g3\n",
    "\n",
    "    epsilon = 10**-3\n",
    "    i = 0\n",
    "\n",
    "    print(\"n\\txn\\t\\tf(xn)\")\n",
    "    print(\"1\\t\"+ str(xnm2)+ \"\\t\\t\" +str(f(xnm2)))\n",
    "    print(\"2\\t\"+ str(xnm1)+ \"\\t\\t\" +str(f(xnm1)))\n",
    "    print(\"3\\t\"+ str(xn)+ \"\\t\\t\" +str(f(xn)))\n",
    "\n",
    "    while(abs(f(xn))> epsilon):\n",
    "        q = (xn - xnm1)/(xnm1 - xnm2)\n",
    "        a = q*f(xn) - q*(1+q)*f(xnm1) + q**2*f(xnm2)\n",
    "        b = (2*q + 1)*f(xn) - (1+q)**2*f(xnm1) + q**2*f(xnm2)\n",
    "        c = (1+q)*f(xn)\n",
    "        # see which x-intercept is better: \n",
    "        r = xn - (xn - xnm1)*((2*c)/(b + cmath.sqrt(b**2-4*a*c)))\n",
    "        s = xn - (xn - xnm1)*((2*c)/(b - cmath.sqrt(b**2-4*a*c)))\n",
    "        if(abs(f(r)) < abs(f(s))):\n",
    "            xplus = r\n",
    "        else:\n",
    "            xplus = s\n",
    "        if xplus.imag == 0j: # result is a real number \n",
    "            xplus = xplus.real\n",
    "            print(str(i+4) + \"\\t\" + str(round(xplus,5)) + \"\\t\\t\" + str(round(f(xplus), 5)))\n",
    "        else:\n",
    "            print(str(i+4) + \"\\t{:.4f}\".format(xplus) + \"\\t{:.4f}\".format(f(xplus)))\n",
    "        xnm2 = xnm1\n",
    "        xnm1 = xn\n",
    "        xn = xplus \n",
    "        i = i+1\n",
    "\n",
    "    print(str(i) + \"iterations\")\n",
    "\n",
    "    conjugate = None\n",
    "    \n",
    "    # when the root is complex double check for complex conjugate\n",
    "    if isinstance(xplus, complex):\n",
    "        conjugate = complex(xplus.real, -xplus.imag)\n",
    "        if abs(f(conjugate)) < epsilon:\n",
    "            print(\"and \\t{:.4f}\".format(conjugate) + \"\\t{:.4f}\".format(f(conjugate))) \n",
    "    \n",
    "    return xn, conjugate\n",
    "            \n",
    "#Make additional guesses around other roots. \n",
    "root1, con = Muller(4.5, 5.5, 5)\n",
    "root2, con = Muller(-0.7, -1.2, -1.1)\n",
    "root3, con = Muller(-3.5, -2.8, -3.1)\n",
    "\n",
    "\n",
    "\n",
    "print(\"The estimated roots are\" + str(root1) + \", \" + str(root2) + \", \" + str(root3))"
   ]
  },
  {
   "cell_type": "code",
   "execution_count": null,
   "id": "d84712a0",
   "metadata": {},
   "outputs": [],
   "source": []
  }
 ],
 "metadata": {
  "kernelspec": {
   "display_name": "Python 3 (ipykernel)",
   "language": "python",
   "name": "python3"
  },
  "language_info": {
   "codemirror_mode": {
    "name": "ipython",
    "version": 3
   },
   "file_extension": ".py",
   "mimetype": "text/x-python",
   "name": "python",
   "nbconvert_exporter": "python",
   "pygments_lexer": "ipython3",
   "version": "3.9.13"
  }
 },
 "nbformat": 4,
 "nbformat_minor": 5
}
