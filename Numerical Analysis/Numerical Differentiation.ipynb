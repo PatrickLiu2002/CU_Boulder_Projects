{
 "cells": [
  {
   "cell_type": "code",
   "execution_count": 1,
   "id": "a26dc6f6",
   "metadata": {},
   "outputs": [],
   "source": [
    "#Differentiation\n",
    "\n",
    "import numpy as np\n",
    "import matplotlib.pyplot as plt\n"
   ]
  },
  {
   "cell_type": "code",
   "execution_count": 2,
   "id": "47d5d855",
   "metadata": {},
   "outputs": [],
   "source": [
    "def derivative(f, a, method='central', h = 0.01):\n",
    "    #Compupte f'(a) with step size h\n",
    "    \n",
    "    #f: Function of one variable\n",
    "    #a: Location to compute derivative for\n",
    "    \n",
    "    #Method: String describing method used\n",
    "    #Valid: 'forward', 'backward', 'centra;'\n",
    "    \n",
    "    #h: Number, step size in difference formula\n",
    "    \n",
    "    #Returns:\n",
    "    #Difference Formula\n",
    "    #central: [f(a + h) - f(a - h)]/2h\n",
    "    #forward: (f(a + h) - f(a))/h\n",
    "    #backward: (f(a) - f(a - h))/h\n",
    "\n",
    "    if (method == 'central'):\n",
    "        return (f(a + h) - f(a - h))/(2 * h)\n",
    "    elif (method == 'forward'):\n",
    "        return (f(a + h) - f(a))/(2)\n",
    "    elif (method == 'backward'):\n",
    "        return (f(a) - f(a - h))/(2)\n",
    "    else:\n",
    "        print(\"Method must be central, forward, or backward.\")\n"
   ]
  },
  {
   "cell_type": "code",
   "execution_count": 3,
   "id": "c8b1f6f7",
   "metadata": {},
   "outputs": [
    {
     "data": {
      "text/plain": [
       "-2.499979166736832e-05"
      ]
     },
     "execution_count": 3,
     "metadata": {},
     "output_type": "execute_result"
    }
   ],
   "source": [
    "#Test cos(x) at a = 0. We know it's 0\n",
    "\n",
    "derivative(np.cos, 0, 'forward')"
   ]
  },
  {
   "cell_type": "code",
   "execution_count": null,
   "id": "7053d9ba",
   "metadata": {},
   "outputs": [],
   "source": []
  }
 ],
 "metadata": {
  "kernelspec": {
   "display_name": "Python 3 (ipykernel)",
   "language": "python",
   "name": "python3"
  },
  "language_info": {
   "codemirror_mode": {
    "name": "ipython",
    "version": 3
   },
   "file_extension": ".py",
   "mimetype": "text/x-python",
   "name": "python",
   "nbconvert_exporter": "python",
   "pygments_lexer": "ipython3",
   "version": "3.9.13"
  }
 },
 "nbformat": 4,
 "nbformat_minor": 5
}
