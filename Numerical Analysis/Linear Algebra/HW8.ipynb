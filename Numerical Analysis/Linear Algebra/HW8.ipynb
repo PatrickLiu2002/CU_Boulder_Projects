{
 "cells": [
  {
   "cell_type": "code",
   "execution_count": 2,
   "id": "7362dce7",
   "metadata": {},
   "outputs": [
    {
     "data": {
      "text/plain": [
       "'\\nB = lag.RowAdd(B, 0, 3, -3)\\nL3 = lag.RowAdd(I, 0, 3, -3)\\n\\n\\nB = lag.RowSwap(B, 2, 3)\\nP2 = lag.RowSwap(I, 2, 3)\\n'"
      ]
     },
     "execution_count": 2,
     "metadata": {},
     "output_type": "execute_result"
    }
   ],
   "source": [
    "import numpy as np\n",
    "import laguide as lag\n",
    "import scipy.linalg as sla\n",
    "\n",
    "#Question 3a\n",
    "\n",
    "A = np.array([\n",
    "    [1, 2, -1],\n",
    "    [2, 4, 0],\n",
    "    [0, 1, -1],\n",
    "])\n",
    "\n",
    "#3b\n",
    "\n",
    "A = np.array([\n",
    "    [0, 1, 1],\n",
    "    [1, -2, -1],\n",
    "    [1, -1, 1],\n",
    "])\n",
    "\n",
    "#3c\n",
    "A = np.array([\n",
    "    [1, 1, -1, 0],\n",
    "    [1, 1, 4, 3],\n",
    "    [2, -1, 2, 4],\n",
    "    [2, -1, 2, 3]\n",
    "])\n",
    "\n",
    "#3d\n",
    "A = np.array([\n",
    "    [0, 1, 1, 2],\n",
    "    [0, 1, 1, -1],\n",
    "    [1, 2, -1, 3],\n",
    "    [1, 1, 2, 0]\n",
    "])\n",
    "\n",
    "'''\n",
    "B = lag.RowAdd(B, 0, 3, -3)\n",
    "L3 = lag.RowAdd(I, 0, 3, -3)\n",
    "\n",
    "\n",
    "B = lag.RowSwap(B, 2, 3)\n",
    "P2 = lag.RowSwap(I, 2, 3)\n",
    "'''\n",
    "\n"
   ]
  },
  {
   "cell_type": "code",
   "execution_count": 6,
   "id": "3c877206",
   "metadata": {},
   "outputs": [
    {
     "name": "stdout",
     "output_type": "stream",
     "text": [
      "[[ 1.  2. -1.]\n",
      " [ 0.  1. -1.]\n",
      " [ 0.  0.  2.]]\n",
      "[[1. 0. 0.]\n",
      " [0. 0. 1.]\n",
      " [0. 1. 0.]]\n"
     ]
    }
   ],
   "source": [
    "#3a\n",
    "A = np.array([\n",
    "    [1, 2, -1],\n",
    "    [2, 4, 0],\n",
    "    [0, 1, -1],\n",
    "])\n",
    "\n",
    "I = np.eye(3)\n",
    "\n",
    "#Initial pivot elimination\n",
    "A = lag.RowAdd(A, 0, 1, -2)\n",
    "L1 = lag.RowAdd(I, 0, 1, -2)\n",
    "\n",
    "\n",
    "#Row swapping is required. \n",
    "A = lag.RowSwap(A, 1, 2)\n",
    "P1 = lag.RowSwap(I, 1, 2)\n",
    "\n",
    "print(A)\n",
    "\n",
    "#We now have a matrix that can be solved through back substitution.\n",
    "\n",
    "print(P1)"
   ]
  },
  {
   "cell_type": "code",
   "execution_count": 12,
   "id": "4bdc2bc7",
   "metadata": {},
   "outputs": [
    {
     "name": "stdout",
     "output_type": "stream",
     "text": [
      "[[ 1. -2. -1.]\n",
      " [ 0.  1.  1.]\n",
      " [ 0.  0.  1.]]\n",
      "[[0. 1. 0.]\n",
      " [1. 0. 0.]\n",
      " [0. 0. 1.]]\n"
     ]
    }
   ],
   "source": [
    "#3b\n",
    "A = np.array([\n",
    "    [0, 1, 1],\n",
    "    [1, -2, -1],\n",
    "    [1, -1, 1],\n",
    "])\n",
    "\n",
    "I = np.eye(3)\n",
    "\n",
    "#Row swapping is required. \n",
    "A = lag.RowSwap(A, 0, 1)\n",
    "P1 = lag.RowSwap(I, 0, 1)\n",
    "\n",
    "#Pivot elimination\n",
    "A = lag.RowAdd(A, 0, 2, -1)\n",
    "L1 = lag.RowAdd(I, 0, 2, -1)\n",
    "\n",
    "\n",
    "#Pivot elimination\n",
    "A = lag.RowAdd(A, 1, 2, -1)\n",
    "L1 = lag.RowAdd(I, 1, 2, -1)\n",
    "\n",
    "print(A)\n",
    "\n",
    "print(P1)"
   ]
  },
  {
   "cell_type": "code",
   "execution_count": 18,
   "id": "a924f224",
   "metadata": {},
   "outputs": [
    {
     "name": "stdout",
     "output_type": "stream",
     "text": [
      "[[ 1.  1. -1.  0.]\n",
      " [ 0. -3.  4.  4.]\n",
      " [ 0.  0.  5.  3.]\n",
      " [ 0.  0.  0. -1.]]\n",
      "[[1. 0. 0. 0.]\n",
      " [0. 0. 1. 0.]\n",
      " [0. 1. 0. 0.]\n",
      " [0. 0. 0. 1.]]\n"
     ]
    }
   ],
   "source": [
    "#3c\n",
    "A = np.array([\n",
    "    [1, 1, -1, 0],\n",
    "    [1, 1, 4, 3],\n",
    "    [2, -1, 2, 4],\n",
    "    [2, -1, 2, 3]\n",
    "])\n",
    "\n",
    "I = np.eye(4)\n",
    "\n",
    "#Pivot elimination\n",
    "A = lag.RowAdd(A, 0, 1, -1)\n",
    "L1 = lag.RowAdd(I, 0, 1, -1)\n",
    "\n",
    "A = lag.RowAdd(A, 0, 2, -2)\n",
    "L2 = lag.RowAdd(I, 0, 2, -2)\n",
    "\n",
    "A = lag.RowAdd(A, 0, 3, -2)\n",
    "L3 = lag.RowAdd(I, 0, 3, -2)\n",
    "\n",
    "\n",
    "#Row swapping required at this point\n",
    "A = lag.RowSwap(A, 1, 2)\n",
    "P1 = lag.RowSwap(I, 1, 2)\n",
    "\n",
    "\n",
    "#Pivot elimination\n",
    "A = lag.RowAdd(A, 1, 3, -1)\n",
    "L4 = lag.RowAdd(I, 1, 3, -1)\n",
    "\n",
    "print(A)\n",
    "\n",
    "print(P1)"
   ]
  },
  {
   "cell_type": "code",
   "execution_count": 27,
   "id": "a066d39f",
   "metadata": {},
   "outputs": [
    {
     "name": "stdout",
     "output_type": "stream",
     "text": [
      "[[ 1.  2. -1.  3.]\n",
      " [ 0.  1.  1. -1.]\n",
      " [ 0.  0.  4. -4.]\n",
      " [ 0.  0.  0.  3.]]\n",
      "[[0. 0. 1. 0.]\n",
      " [0. 1. 0. 0.]\n",
      " [0. 0. 0. 1.]\n",
      " [1. 0. 0. 0.]]\n"
     ]
    }
   ],
   "source": [
    "#3d\n",
    "A = np.array([\n",
    "    [0, 1, 1, 2],\n",
    "    [0, 1, 1, -1],\n",
    "    [1, 2, -1, 3],\n",
    "    [1, 1, 2, 0]\n",
    "])\n",
    "\n",
    "I = np.eye(4)\n",
    "\n",
    "#Row swapping required at this point\n",
    "A = lag.RowSwap(A, 0, 2)\n",
    "P1 = lag.RowSwap(I, 0, 2)\n",
    "\n",
    "#Pivot elimination\n",
    "A = lag.RowAdd(A, 0, 3, -1)\n",
    "L1 = lag.RowAdd(I, 0, 3, -1)\n",
    "\n",
    "#Pivot elimination\n",
    "A = lag.RowAdd(A, 1, 2, -1)\n",
    "L2 = lag.RowAdd(I, 1, 2, -1)\n",
    "\n",
    "#Pivot elimination\n",
    "A = lag.RowAdd(A, 1, 3, 1)\n",
    "L3 = lag.RowAdd(I, 1, 3, 1)\n",
    "\n",
    "#Row swapping required at this point\n",
    "A = lag.RowSwap(A, 2, 3)\n",
    "P2 = lag.RowSwap(I, 2, 3)\n",
    "\n",
    "print(A)\n",
    "\n",
    "#Gauss-eliminated at this point. \n",
    "#Get P\n",
    "print(P2 @ P1)"
   ]
  },
  {
   "cell_type": "code",
   "execution_count": null,
   "id": "e5bb31d6",
   "metadata": {},
   "outputs": [],
   "source": []
  }
 ],
 "metadata": {
  "kernelspec": {
   "display_name": "Python 3 (ipykernel)",
   "language": "python",
   "name": "python3"
  },
  "language_info": {
   "codemirror_mode": {
    "name": "ipython",
    "version": 3
   },
   "file_extension": ".py",
   "mimetype": "text/x-python",
   "name": "python",
   "nbconvert_exporter": "python",
   "pygments_lexer": "ipython3",
   "version": "3.9.13"
  }
 },
 "nbformat": 4,
 "nbformat_minor": 5
}
