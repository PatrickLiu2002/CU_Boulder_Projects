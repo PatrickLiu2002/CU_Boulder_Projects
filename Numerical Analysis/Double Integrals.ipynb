{
 "cells": [
  {
   "cell_type": "code",
   "execution_count": 1,
   "id": "ab44424d",
   "metadata": {},
   "outputs": [],
   "source": [
    "#Import\n",
    "import numpy as np\n",
    "import math"
   ]
  },
  {
   "cell_type": "code",
   "execution_count": 2,
   "id": "b8fcaaad",
   "metadata": {},
   "outputs": [],
   "source": [
    "#The Trapezoidal Method for 2d Integrals\n",
    "\n",
    "#Inputs: Function f\n",
    "# bounds of integration of x: a, b\n",
    "# bounds of integration of y: c(x), d(x)\n",
    "# Number of intervals for x: n\n",
    "# Number of intervals for y: m\n",
    "def Trap2d(f, a, b, c, d, m, n):\n",
    "    #Calculate h for step sizes on x\n",
    "    h = (b - a)/n\n",
    "    \n",
    "    totSum = 0 #Sum used for the item\n",
    "    \n",
    "    #Iterate over all steps in the x direction\n",
    "    for i in range(n + 1):\n",
    "        \n",
    "        x = a + h*i #Calculate the current value of x being used\n",
    "        \n",
    "        tempSum = 0 #Get temporary sum for this row\n",
    "        \n",
    "        k = (d(x) - c(x))/m #Calculate k. \n",
    "        \n",
    "        #Iterate over each y value\n",
    "        for j in range(m + 1):\n",
    "\n",
    "            item = f(x, c(x) + k*j) #get f(x, y) for our current x, y\n",
    "            \n",
    "            #If corner point:\n",
    "            if((i == 0 and (j == 0 or j == m)) or (i == n and (j == 0 or j == m))):\n",
    "                #Add to sum with weight 1\n",
    "                tempSum += item\n",
    "            \n",
    "            #If boundary otherwise:\n",
    "            elif(i == 0 or j == 0 or i == n or j == m):\n",
    "                #Add to sum with weight 2\n",
    "                tempSum += 2 * item\n",
    "                \n",
    "            #If an interior point:\n",
    "            else:\n",
    "                #Add to sum with weight 3\n",
    "                tempSum += 4 * item\n",
    "                \n",
    "        tempSum *= k #Distributing k here as it can change\n",
    " \n",
    "        totSum += tempSum #Add the temporary sum to our total sum\n",
    "\n",
    "    #Multiply the total sum by h/4 and return\n",
    "    return h/4 * totSum "
   ]
  },
  {
   "cell_type": "code",
   "execution_count": 3,
   "id": "47220fb1",
   "metadata": {},
   "outputs": [],
   "source": [
    "#Simpson's Rule for 2d Integrals \n",
    "\n",
    "#Inputs: Function f\n",
    "# bounds of integration of x: a, b\n",
    "# bounds of integration of y: c(x), d(x)\n",
    "# Number of intervals for x: n\n",
    "# Number of intervals for y: m\n",
    "def Simp2d(f, a, b, c, d, m, n):\n",
    "    #Calculate h for step sizes on x\n",
    "    h = (b - a)/n\n",
    "    \n",
    "    totSum = 0 #Sum used for the item\n",
    "    \n",
    "    #Iterate over all steps in the x direction\n",
    "    for i in range(n + 1):\n",
    "        \n",
    "        x = a + h*i #Calculate the current value of x being used\n",
    "        \n",
    "        tempSum = 0 #Get temporary sum for this row\n",
    "        \n",
    "        k = (d(x) - c(x))/m #Calculate k. \n",
    "        \n",
    "        #Iterate over each y value\n",
    "        for j in range(m + 1):\n",
    "\n",
    "            item = f(x, c(x) + k*j) #get f(x, y) for our current x, y\n",
    "            \n",
    "            #If corner point:\n",
    "            if((i == 0 and (j == 0 or j == m)) or (i == n and (j == 0 or j == m))):\n",
    "                #Add to sum with weight 1\n",
    "                tempSum += item\n",
    "            \n",
    "            #Note that \"odd positions\" have indicies of 0, 2, ...\n",
    "            #And even positions have indicies of 1, 3, ...\n",
    "            #This is because we use a 0-index system, unlike the 1-index system used in class\n",
    "            \n",
    "            #Boundary Handling:\n",
    "            \n",
    "            #X-end\n",
    "            elif(i == 0 or i == n):\n",
    "                if(j%2 == 0): #Odd position\n",
    "                    tempSum += 2 * item\n",
    "                else: #Even Position\n",
    "                    tempSum += 4 * item\n",
    "            \n",
    "            #Y-end\n",
    "            elif(j == 0 or j == n):\n",
    "                if(i%2 == 0): #Odd position\n",
    "                    tempSum += 2 * item\n",
    "                else: #Even Position\n",
    "                    tempSum += 4 * item                    \n",
    "            \n",
    "            #Odd rows\n",
    "            elif(j%2 == 0):\n",
    "                if(i%2 == 0): #Odd position\n",
    "                    tempSum += 4 * item\n",
    "                else: #Even Position\n",
    "                    tempSum += 8 * item\n",
    "                \n",
    "            else:\n",
    "                if(i%2 == 0): #Odd position\n",
    "                    tempSum += 8 * item\n",
    "                else: #Even Position\n",
    "                    tempSum += 16 * item\n",
    "                \n",
    "        tempSum *= k #Distributing k here as it can change\n",
    " \n",
    "        totSum += tempSum #Add the temporary sum to our total sum\n",
    "\n",
    "    #Multiply the total sum by h/9 and return\n",
    "    return h/9 * totSum "
   ]
  },
  {
   "cell_type": "code",
   "execution_count": 4,
   "id": "86d806b2",
   "metadata": {},
   "outputs": [
    {
     "name": "stdout",
     "output_type": "stream",
     "text": [
      "0.3116499999999998\n",
      "0.3115733333333331\n"
     ]
    }
   ],
   "source": [
    "#Question A for sanity check\n",
    "def qAFunc(x,y):\n",
    "    f = x * (y ** 2)\n",
    "    return f\n",
    "\n",
    "def const12(x):\n",
    "    return 1.2\n",
    "\n",
    "def const14(x):\n",
    "    return 1.4\n",
    "\n",
    "#Sanity check: This should be around 0.31165 as manually calculated.\n",
    "a = Trap2d(qAFunc, 2.1, 2.5, const12, const14, 4, 4)\n",
    "#Sanity check: This should be around 0.3115733 as manually calculated.\n",
    "b = Simp2d(qAFunc, 2.1, 2.5, const12, const14, 4, 4)\n",
    "print(a)\n",
    "print(b)"
   ]
  },
  {
   "cell_type": "code",
   "execution_count": 5,
   "id": "fc885e89",
   "metadata": {},
   "outputs": [
    {
     "name": "stdout",
     "output_type": "stream",
     "text": [
      "16.70069627929689\n",
      "16.508640625000016\n"
     ]
    }
   ],
   "source": [
    "#Function for Question C\n",
    "def qCFunc(x,y):\n",
    "    f = x**2 + y**3\n",
    "    return f\n",
    "\n",
    "#Lower bound of y for C\n",
    "def cc(x):\n",
    "    return x\n",
    "\n",
    "#Upper bound of y for C\n",
    "def cd(x):\n",
    "    return 2 * x\n",
    "\n",
    "print(Trap2d(qCFunc, 2, 2.2, cc, cd, 4, 4))\n",
    "print(Simp2d(qCFunc, 2, 2.2, cc, cd, 4, 4))"
   ]
  },
  {
   "cell_type": "code",
   "execution_count": 6,
   "id": "fbc61922",
   "metadata": {},
   "outputs": [
    {
     "name": "stdout",
     "output_type": "stream",
     "text": [
      "1.472548779579435\n",
      "1.4766841026926054\n"
     ]
    }
   ],
   "source": [
    "#Function for Question D\n",
    "def qDFunc(x,y):\n",
    "    f = x**2 + math.sqrt(y)\n",
    "    return f\n",
    "def dc(x):\n",
    "    return 0\n",
    "\n",
    "def dd(x):\n",
    "    return x\n",
    "\n",
    "print(Trap2d(qDFunc, 1, 1.5, dc, dd, 4, 4))\n",
    "print(Simp2d(qDFunc, 1, 1.5, dc, dd, 4, 4))"
   ]
  },
  {
   "cell_type": "code",
   "execution_count": null,
   "id": "b044e854",
   "metadata": {},
   "outputs": [],
   "source": []
  },
  {
   "cell_type": "code",
   "execution_count": null,
   "id": "9f08e4b5",
   "metadata": {},
   "outputs": [],
   "source": []
  }
 ],
 "metadata": {
  "kernelspec": {
   "display_name": "Python 3 (ipykernel)",
   "language": "python",
   "name": "python3"
  },
  "language_info": {
   "codemirror_mode": {
    "name": "ipython",
    "version": 3
   },
   "file_extension": ".py",
   "mimetype": "text/x-python",
   "name": "python",
   "nbconvert_exporter": "python",
   "pygments_lexer": "ipython3",
   "version": "3.9.13"
  }
 },
 "nbformat": 4,
 "nbformat_minor": 5
}
