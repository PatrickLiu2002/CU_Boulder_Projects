{
 "cells": [
  {
   "cell_type": "code",
   "execution_count": 1,
   "id": "9a89e597",
   "metadata": {},
   "outputs": [],
   "source": [
    "import math\n",
    "import numpy as np"
   ]
  },
  {
   "cell_type": "code",
   "execution_count": 2,
   "id": "f62c8c2a",
   "metadata": {},
   "outputs": [],
   "source": [
    "f = lambda x: math.exp(x)"
   ]
  },
  {
   "cell_type": "code",
   "execution_count": 3,
   "id": "d9b2c0d6",
   "metadata": {},
   "outputs": [],
   "source": [
    "a = 0 # Lower Limit\n",
    "b = 1 # Upper Limit\n",
    "\n"
   ]
  },
  {
   "cell_type": "code",
   "execution_count": 4,
   "id": "2af096eb",
   "metadata": {},
   "outputs": [],
   "source": [
    "#Define function in terms of Trapezoidal Rule:\n",
    "\n",
    "def trap (n, a, b): #N is number of trapdzoids\n",
    "    #Segment number: \n",
    "    h = (b - a)/n\n",
    "    Sum = 0\n",
    "    \n",
    "    for i in range (1, n):\n",
    "        Sum = Sum + 2*(f(a+i*h))\n",
    "    #Calculate  trapezoidal estimate\n",
    "    Trap = (h/2) * (f(a) + Sum + f(b))\n",
    "    return Trap"
   ]
  },
  {
   "cell_type": "code",
   "execution_count": 5,
   "id": "2ba40134",
   "metadata": {},
   "outputs": [],
   "source": [
    "#Initialize:\n",
    "\n",
    "I = np.zeros((10, 10))\n",
    "ea = 100 #Approximate error\n",
    "n = 1 #1 trapezoid\n",
    "i = 1 #Number of applications\n",
    "\n",
    "#Calculate the first estimate: I(1, 1). Use one trapezoid\n",
    "I[1, 1] = trap(1, a, b)\n",
    "#print(I[1, 1])"
   ]
  },
  {
   "cell_type": "code",
   "execution_count": 6,
   "id": "050e64e5",
   "metadata": {},
   "outputs": [
    {
     "name": "stdout",
     "output_type": "stream",
     "text": [
      "1.7188611518765928 2.0403009603157467 0.03382172152343042\n",
      "1.7182826879247577 0.002104077358376601 0.00015643112633916204\n"
     ]
    }
   ],
   "source": [
    "#Main Code\n",
    "\n",
    "while (ea > 0.01): #Main code aims to get within a certain level of tolerable error\n",
    "    #Loop 1: Increase number of trapezoids\n",
    "    \n",
    "    #Going from I[1, 1] to 2nd level of integration: I[1, 2], to do that we need I[2, 1]\n",
    "    \n",
    "    \n",
    "    #Loop will be designed to calculate I[2, 1]\n",
    "    \n",
    "    \n",
    "    #Restart process by calculating n\n",
    "    \n",
    "    n = 2**i #Increase number of trapezoids (double it)\n",
    "    \n",
    "    #Next integral approximation\n",
    "    \n",
    "    \n",
    "    #I[2, 1] will give us an approximation of the error using 2 trapezoids. We have seen the above I[1, 1] \n",
    "    #and now we will find I[2, 1]\n",
    "    \n",
    "    I[i+1, 1] = trap(n, a, b)\n",
    "    \n",
    "    #Start at integration level \"k\":\n",
    "    \n",
    "    for k in range(2, i + 2):\n",
    "        j = 2 + i - k\n",
    "        \n",
    "        I[j, k] = (4**(k - 1) * I[j + 1, k - 1] - I[j, k - 1]) / (4 ** (k - 1) - 1)\n",
    "        \n",
    "    #Calculate approximate and true error\n",
    "    \n",
    "    ea = abs((I[1, i+1] - I[2, i]) / I[1, i + 1]) * 100\n",
    "    et = abs((1.71828 - I[1, i + 1])/1.71828)* 100\n",
    "    \n",
    "    print(I[1, i + 1], ea, et)\n",
    "    \n",
    "    i += 1 #Go to second loop/application of Romberg if we did not reach the approximate error\n"
   ]
  },
  {
   "cell_type": "code",
   "execution_count": null,
   "id": "93004bdd",
   "metadata": {},
   "outputs": [],
   "source": []
  }
 ],
 "metadata": {
  "kernelspec": {
   "display_name": "Python 3 (ipykernel)",
   "language": "python",
   "name": "python3"
  },
  "language_info": {
   "codemirror_mode": {
    "name": "ipython",
    "version": 3
   },
   "file_extension": ".py",
   "mimetype": "text/x-python",
   "name": "python",
   "nbconvert_exporter": "python",
   "pygments_lexer": "ipython3",
   "version": "3.9.13"
  }
 },
 "nbformat": 4,
 "nbformat_minor": 5
}
