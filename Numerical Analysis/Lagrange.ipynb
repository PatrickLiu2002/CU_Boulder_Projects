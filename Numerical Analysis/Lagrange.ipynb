{
 "cells": [
  {
   "cell_type": "code",
   "execution_count": 2,
   "id": "900c6444",
   "metadata": {},
   "outputs": [
    {
     "ename": "AttributeError",
     "evalue": "display",
     "output_type": "error",
     "traceback": [
      "\u001b[0;31m---------------------------------------------------------------------------\u001b[0m",
      "\u001b[0;31mAttributeError\u001b[0m                            Traceback (most recent call last)",
      "\u001b[0;32m/var/folders/_0/s734hct91wx3sx4zbn8z1s5w0000gn/T/ipykernel_17336/1348550486.py\u001b[0m in \u001b[0;36m<module>\u001b[0;34m\u001b[0m\n\u001b[1;32m     49\u001b[0m \u001b[0;34m\u001b[0m\u001b[0m\n\u001b[1;32m     50\u001b[0m \u001b[0mimage\u001b[0m\u001b[0;34m.\u001b[0m\u001b[0msave\u001b[0m\u001b[0;34m(\u001b[0m\u001b[0;34m\"Polynomial_Interpolation.png\"\u001b[0m\u001b[0;34m,\u001b[0m \u001b[0;34m\"PNG\"\u001b[0m\u001b[0;34m)\u001b[0m\u001b[0;34m\u001b[0m\u001b[0;34m\u001b[0m\u001b[0m\n\u001b[0;32m---> 51\u001b[0;31m \u001b[0mimage\u001b[0m\u001b[0;34m.\u001b[0m\u001b[0mdisplay\u001b[0m\u001b[0;34m(\u001b[0m\u001b[0;34m)\u001b[0m\u001b[0;34m\u001b[0m\u001b[0;34m\u001b[0m\u001b[0m\n\u001b[0m",
      "\u001b[0;32m~/opt/anaconda3/lib/python3.9/site-packages/PIL/Image.py\u001b[0m in \u001b[0;36m__getattr__\u001b[0;34m(self, name)\u001b[0m\n\u001b[1;32m    515\u001b[0m             \u001b[0mdeprecate\u001b[0m\u001b[0;34m(\u001b[0m\u001b[0;34m\"Image categories\"\u001b[0m\u001b[0;34m,\u001b[0m \u001b[0;36m10\u001b[0m\u001b[0;34m,\u001b[0m \u001b[0;34m\"is_animated\"\u001b[0m\u001b[0;34m,\u001b[0m \u001b[0mplural\u001b[0m\u001b[0;34m=\u001b[0m\u001b[0;32mTrue\u001b[0m\u001b[0;34m)\u001b[0m\u001b[0;34m\u001b[0m\u001b[0;34m\u001b[0m\u001b[0m\n\u001b[1;32m    516\u001b[0m             \u001b[0;32mreturn\u001b[0m \u001b[0mself\u001b[0m\u001b[0;34m.\u001b[0m\u001b[0m_category\u001b[0m\u001b[0;34m\u001b[0m\u001b[0;34m\u001b[0m\u001b[0m\n\u001b[0;32m--> 517\u001b[0;31m         \u001b[0;32mraise\u001b[0m \u001b[0mAttributeError\u001b[0m\u001b[0;34m(\u001b[0m\u001b[0mname\u001b[0m\u001b[0;34m)\u001b[0m\u001b[0;34m\u001b[0m\u001b[0;34m\u001b[0m\u001b[0m\n\u001b[0m\u001b[1;32m    518\u001b[0m \u001b[0;34m\u001b[0m\u001b[0m\n\u001b[1;32m    519\u001b[0m     \u001b[0;34m@\u001b[0m\u001b[0mproperty\u001b[0m\u001b[0;34m\u001b[0m\u001b[0;34m\u001b[0m\u001b[0m\n",
      "\u001b[0;31mAttributeError\u001b[0m: display"
     ]
    }
   ],
   "source": [
    "import random\n",
    "\n",
    "#Use PIL for function drawing.\n",
    "from PIL import Image, ImageDraw\n",
    "\n",
    "#Frame image and set up draw\n",
    "imgx = 800\n",
    "imgy = 600\n",
    "image = Image.new(\"RGB\", (imgx, imgy))\n",
    "draw = ImageDraw.Draw(image)\n",
    "\n",
    "#Generate random numbers.\n",
    "n = random.randint(3, 5) #Number of points for the curve to pass through\n",
    "xList = []\n",
    "yList = []\n",
    "\n",
    "#Created random x and y points and added them to a list.\n",
    "for i in range(n):\n",
    "    x = random.random() * (imgx - 1)\n",
    "    y = random.random() * (imgy - 1)\n",
    "    xList.append(x)\n",
    "    yList.append(y)\n",
    "    \n",
    "#Calculate lagrange polynomials for each x and determine y and draw the pixelx\n",
    "\n",
    "#Calculating lagrange polynomial for each x\n",
    "\n",
    "m = 100000 #Number of steps\n",
    "\n",
    "for p in range(m):\n",
    "    x = (imgx - 1) * p / (m - 1)\n",
    "    y = 0.0\n",
    "    for j in range(n):\n",
    "        Lx = 1.0\n",
    "        for k in range(n):\n",
    "            if k != j:\n",
    "                Lx = Lx * (x - xList[k])/(xList[j] - xList[k])\n",
    "        y = y + yList[j] * Lx\n",
    "    if y >= 0 and y < imgy - 1:\n",
    "          image.putpixel((int(x), int(y)), (255, 255, 255))\n",
    "            \n",
    "#initialize radius\n",
    "CR = 5 #Circle radius\n",
    "\n",
    "for i in range(n):\n",
    "    cx = int(xList[i])\n",
    "    cy = int(yList[i])\n",
    "    draw.ellipse((cx - CR, cy - CR, cx + CR, cy + CR))\n",
    "\n",
    "image.save(\"Polynomial_Interpolation.png\", \"PNG\")\n",
    "image.display()"
   ]
  },
  {
   "cell_type": "code",
   "execution_count": null,
   "id": "8e5596b7",
   "metadata": {},
   "outputs": [],
   "source": []
  }
 ],
 "metadata": {
  "kernelspec": {
   "display_name": "Python 3 (ipykernel)",
   "language": "python",
   "name": "python3"
  },
  "language_info": {
   "codemirror_mode": {
    "name": "ipython",
    "version": 3
   },
   "file_extension": ".py",
   "mimetype": "text/x-python",
   "name": "python",
   "nbconvert_exporter": "python",
   "pygments_lexer": "ipython3",
   "version": "3.9.13"
  }
 },
 "nbformat": 4,
 "nbformat_minor": 5
}
